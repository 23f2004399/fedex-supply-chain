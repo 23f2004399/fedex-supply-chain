{
 "cells": [
  {
   "cell_type": "code",
   "execution_count": 1,
   "id": "0fdd0b54",
   "metadata": {},
   "outputs": [],
   "source": [
    "import pandas as pd"
   ]
  },
  {
   "cell_type": "code",
   "execution_count": 3,
   "id": "1c6799e9",
   "metadata": {},
   "outputs": [],
   "source": [
    "main_df = pd.read_csv('DataCoSupplyChainDataset.csv', encoding='ISO-8859-1')"
   ]
  },
  {
   "cell_type": "code",
   "execution_count": 4,
   "id": "41b1e42d",
   "metadata": {},
   "outputs": [],
   "source": [
    "missing_values = main_df.isnull().sum()\n",
    "missing_values = missing_values[missing_values > 0].sort_values(ascending=False)"
   ]
  },
  {
   "cell_type": "code",
   "execution_count": 5,
   "id": "95a3eddd",
   "metadata": {},
   "outputs": [],
   "source": [
    "date_cols = ['order date (DateOrders)', 'shipping date (DateOrders)']\n",
    "main_df[date_cols[0]] = pd.to_datetime(main_df[date_cols[0]], errors='coerce')\n",
    "main_df[date_cols[1]] = pd.to_datetime(main_df[date_cols[1]], errors='coerce')"
   ]
  },
  {
   "cell_type": "code",
   "execution_count": 6,
   "id": "d12c4f6b",
   "metadata": {},
   "outputs": [],
   "source": [
    "date_parse_issues = main_df[main_df[date_cols[0]].isna() | main_df[date_cols[1]].isna()]"
   ]
  },
  {
   "cell_type": "code",
   "execution_count": 10,
   "id": "0ab164a0",
   "metadata": {},
   "outputs": [
    {
     "data": {
      "text/html": [
       "<div>\n",
       "<style scoped>\n",
       "    .dataframe tbody tr th:only-of-type {\n",
       "        vertical-align: middle;\n",
       "    }\n",
       "\n",
       "    .dataframe tbody tr th {\n",
       "        vertical-align: top;\n",
       "    }\n",
       "\n",
       "    .dataframe thead th {\n",
       "        text-align: right;\n",
       "    }\n",
       "</style>\n",
       "<table border=\"1\" class=\"dataframe\">\n",
       "  <thead>\n",
       "    <tr style=\"text-align: right;\">\n",
       "      <th></th>\n",
       "      <th>Type</th>\n",
       "      <th>Days for shipping (real)</th>\n",
       "      <th>Days for shipment (scheduled)</th>\n",
       "      <th>Benefit per order</th>\n",
       "      <th>Sales per customer</th>\n",
       "      <th>Delivery Status</th>\n",
       "      <th>Late_delivery_risk</th>\n",
       "      <th>Category Id</th>\n",
       "      <th>Category Name</th>\n",
       "      <th>Customer City</th>\n",
       "      <th>...</th>\n",
       "      <th>Order Zipcode</th>\n",
       "      <th>Product Card Id</th>\n",
       "      <th>Product Category Id</th>\n",
       "      <th>Product Description</th>\n",
       "      <th>Product Image</th>\n",
       "      <th>Product Name</th>\n",
       "      <th>Product Price</th>\n",
       "      <th>Product Status</th>\n",
       "      <th>shipping date (DateOrders)</th>\n",
       "      <th>Shipping Mode</th>\n",
       "    </tr>\n",
       "  </thead>\n",
       "  <tbody>\n",
       "  </tbody>\n",
       "</table>\n",
       "<p>0 rows × 53 columns</p>\n",
       "</div>"
      ],
      "text/plain": [
       "Empty DataFrame\n",
       "Columns: [Type, Days for shipping (real), Days for shipment (scheduled), Benefit per order, Sales per customer, Delivery Status, Late_delivery_risk, Category Id, Category Name, Customer City, Customer Country, Customer Email, Customer Fname, Customer Id, Customer Lname, Customer Password, Customer Segment, Customer State, Customer Street, Customer Zipcode, Department Id, Department Name, Latitude, Longitude, Market, Order City, Order Country, Order Customer Id, order date (DateOrders), Order Id, Order Item Cardprod Id, Order Item Discount, Order Item Discount Rate, Order Item Id, Order Item Product Price, Order Item Profit Ratio, Order Item Quantity, Sales, Order Item Total, Order Profit Per Order, Order Region, Order State, Order Status, Order Zipcode, Product Card Id, Product Category Id, Product Description, Product Image, Product Name, Product Price, Product Status, shipping date (DateOrders), Shipping Mode]\n",
       "Index: []\n",
       "\n",
       "[0 rows x 53 columns]"
      ]
     },
     "execution_count": 10,
     "metadata": {},
     "output_type": "execute_result"
    }
   ],
   "source": [
    "date_parse_issues"
   ]
  },
  {
   "cell_type": "code",
   "execution_count": 7,
   "id": "c456f663",
   "metadata": {},
   "outputs": [],
   "source": [
    "numerical_cols = main_df.select_dtypes(include=['float64', 'int64']).columns\n",
    "outlier_flags = {}\n",
    "\n",
    "for col in numerical_cols:\n",
    "    Q1 = main_df[col].quantile(0.25)\n",
    "    Q3 = main_df[col].quantile(0.75)\n",
    "    IQR = Q3 - Q1\n",
    "    lower_bound = Q1 - 1.5 * IQR\n",
    "    upper_bound = Q3 + 1.5 * IQR\n",
    "    outliers = main_df[(main_df[col] < lower_bound) | (main_df[col] > upper_bound)]\n",
    "    if not outliers.empty:\n",
    "        outlier_flags[col] = len(outliers)"
   ]
  },
  {
   "cell_type": "code",
   "execution_count": 9,
   "id": "b536a3ba",
   "metadata": {},
   "outputs": [
    {
     "data": {
      "text/plain": [
       "{'Benefit per order': 18942,\n",
       " 'Sales per customer': 1943,\n",
       " 'Customer Id': 1198,\n",
       " 'Department Id': 362,\n",
       " 'Latitude': 9,\n",
       " 'Longitude': 1414,\n",
       " 'Order Customer Id': 1198,\n",
       " 'Order Item Discount': 7537,\n",
       " 'Order Item Product Price': 2048,\n",
       " 'Order Item Profit Ratio': 17300,\n",
       " 'Sales': 488,\n",
       " 'Order Item Total': 1943,\n",
       " 'Order Profit Per Order': 18942,\n",
       " 'Product Price': 2048}"
      ]
     },
     "execution_count": 9,
     "metadata": {},
     "output_type": "execute_result"
    }
   ],
   "source": [
    "outlier_flags"
   ]
  },
  {
   "cell_type": "code",
   "execution_count": 8,
   "id": "d84b66a8",
   "metadata": {},
   "outputs": [
    {
     "data": {
      "text/plain": [
       "{'Columns with Missing Values': {'Product Description': 180519,\n",
       "  'Order Zipcode': 155679,\n",
       "  'Customer Lname': 8,\n",
       "  'Customer Zipcode': 3},\n",
       " 'Invalid Date Entries': 0,\n",
       " 'Outliers Detected in Numerical Columns': {'Benefit per order': 18942,\n",
       "  'Sales per customer': 1943,\n",
       "  'Customer Id': 1198,\n",
       "  'Department Id': 362,\n",
       "  'Latitude': 9,\n",
       "  'Longitude': 1414,\n",
       "  'Order Customer Id': 1198,\n",
       "  'Order Item Discount': 7537,\n",
       "  'Order Item Product Price': 2048,\n",
       "  'Order Item Profit Ratio': 17300,\n",
       "  'Sales': 488,\n",
       "  'Order Item Total': 1943,\n",
       "  'Order Profit Per Order': 18942,\n",
       "  'Product Price': 2048}}"
      ]
     },
     "execution_count": 8,
     "metadata": {},
     "output_type": "execute_result"
    }
   ],
   "source": [
    "data_quality_issues = {\n",
    "    \"Columns with Missing Values\": missing_values.to_dict(),\n",
    "    \"Invalid Date Entries\": len(date_parse_issues),\n",
    "    \"Outliers Detected in Numerical Columns\": outlier_flags\n",
    "}\n",
    "\n",
    "data_quality_issues"
   ]
  },
  {
   "cell_type": "markdown",
   "id": "26cbd300",
   "metadata": {},
   "source": [
    "## Explanation\n",
    "\n",
    "In this notebook, we were able to do the following tasks in flagging the obvious data-quality issues - \n",
    "- Columns with missing values\n",
    "- Invalid or unparseable timestamps\n",
    "- Outliers in numerical fields (using the Interquartile Range method)"
   ]
  }
 ],
 "metadata": {
  "kernelspec": {
   "display_name": "Python 3",
   "language": "python",
   "name": "python3"
  },
  "language_info": {
   "codemirror_mode": {
    "name": "ipython",
    "version": 3
   },
   "file_extension": ".py",
   "mimetype": "text/x-python",
   "name": "python",
   "nbconvert_exporter": "python",
   "pygments_lexer": "ipython3",
   "version": "3.11.4"
  }
 },
 "nbformat": 4,
 "nbformat_minor": 5
}
