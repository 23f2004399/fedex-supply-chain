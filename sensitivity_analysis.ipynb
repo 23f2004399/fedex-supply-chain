{
 "cells": [
  {
   "cell_type": "code",
   "execution_count": 1,
   "id": "3a192167",
   "metadata": {},
   "outputs": [],
   "source": [
    "import pandas as pd\n",
    "import numpy as np\n",
    "import matplotlib.pyplot as plt\n",
    "import seaborn as sns\n",
    "import os"
   ]
  },
  {
   "cell_type": "code",
   "execution_count": 2,
   "id": "4d06c20d",
   "metadata": {},
   "outputs": [],
   "source": [
    "os.makedirs('./figures', exist_ok=True)"
   ]
  },
  {
   "cell_type": "code",
   "execution_count": 3,
   "id": "885991b7",
   "metadata": {},
   "outputs": [],
   "source": [
    "df = pd.read_csv(\"scri_results.csv\")"
   ]
  },
  {
   "cell_type": "code",
   "execution_count": 4,
   "id": "3291a862",
   "metadata": {},
   "outputs": [],
   "source": [
    "base_F = df['F_norm'].mean()\n",
    "base_S = df['S_norm'].mean()\n",
    "base_L = df['L_norm'].mean()"
   ]
  },
  {
   "cell_type": "code",
   "execution_count": 5,
   "id": "364f6d5f",
   "metadata": {},
   "outputs": [],
   "source": [
    "def compute_scri(F, S, L, weights=[0.4, 0.35, 0.25]):\n",
    "    return weights[0]*F + weights[1]*S + weights[2]*L\n",
    "\n",
    "base_scri = compute_scri(base_F, base_S, base_L)"
   ]
  },
  {
   "cell_type": "code",
   "execution_count": 6,
   "id": "70e81faf",
   "metadata": {},
   "outputs": [],
   "source": [
    "n_simulations = 5000\n",
    "weight_scheme = [0.4, 0.35, 0.25]"
   ]
  },
  {
   "cell_type": "code",
   "execution_count": 7,
   "id": "6946b081",
   "metadata": {},
   "outputs": [],
   "source": [
    "scenarios = {\n",
    "    'Severity +20%': lambda F, S, L: compute_scri(F, S * 1.2, L, weight_scheme),\n",
    "    'Severity -20%': lambda F, S, L: compute_scri(F, S * 0.8, L, weight_scheme),\n",
    "    'Frequency CV +15%': lambda F, S, L: compute_scri(F * 1.15, S, L, weight_scheme),\n",
    "    'Frequency CV -15%': lambda F, S, L: compute_scri(F * 0.85, S, L, weight_scheme),\n",
    "}"
   ]
  },
  {
   "cell_type": "code",
   "execution_count": 8,
   "id": "a1598a6b",
   "metadata": {},
   "outputs": [],
   "source": [
    "results = {scenario: [] for scenario in scenarios}\n",
    "results['Base'] = []"
   ]
  },
  {
   "cell_type": "code",
   "execution_count": 9,
   "id": "e182ed96",
   "metadata": {},
   "outputs": [],
   "source": [
    "for _ in range(n_simulations):\n",
    "    F = np.random.normal(loc=base_F, scale=0.05)\n",
    "    S = np.random.normal(loc=base_S, scale=0.05)\n",
    "    L = np.random.normal(loc=base_L, scale=0.05)\n",
    "\n",
    "    results['Base'].append(compute_scri(F, S, L, weight_scheme))\n",
    "\n",
    "    for label, fn in scenarios.items():\n",
    "        results[label].append(fn(F, S, L))"
   ]
  },
  {
   "cell_type": "code",
   "execution_count": 10,
   "id": "5f91fa7b",
   "metadata": {},
   "outputs": [],
   "source": [
    "df_sim = pd.DataFrame(results)\n",
    "tornado = pd.DataFrame({\n",
    "    'Scenario': [k for k in scenarios],\n",
    "    'Change': [df_sim[k].mean() - df_sim['Base'].mean() for k in scenarios]\n",
    "})"
   ]
  },
  {
   "cell_type": "code",
   "execution_count": 11,
   "id": "994d730d",
   "metadata": {},
   "outputs": [],
   "source": [
    "tornado['Abs Change'] = np.abs(tornado['Change'])\n",
    "tornado_sorted = tornado.sort_values(by='Abs Change', ascending=True)"
   ]
  },
  {
   "cell_type": "code",
   "execution_count": 12,
   "id": "6d6f3bac",
   "metadata": {},
   "outputs": [
    {
     "name": "stderr",
     "output_type": "stream",
     "text": [
      "C:\\Users\\Puneet\\AppData\\Local\\Temp\\ipykernel_1680\\328837877.py:2: FutureWarning: \n",
      "\n",
      "Passing `palette` without assigning `hue` is deprecated and will be removed in v0.14.0. Assign the `y` variable to `hue` and set `legend=False` for the same effect.\n",
      "\n",
      "  sns.barplot(y='Scenario', x='Change', data=tornado_sorted, palette='coolwarm', orient='h')\n"
     ]
    },
    {
     "data": {
      "image/png": "[encoded data removed]",
      "text/plain": [
       "<Figure size 800x500 with 1 Axes>"
      ]
     },
     "metadata": {},
     "output_type": "display_data"
    }
   ],
   "source": [
    "plt.figure(figsize=(8, 5))\n",
    "sns.barplot(y='Scenario', x='Change', data=tornado_sorted, palette='coolwarm', orient='h')\n",
    "plt.axvline(0, color='black', linestyle='--')\n",
    "plt.title('Tornado Chart: SCRI Sensitivity')\n",
    "plt.xlabel('Change in SCRI')\n",
    "plt.ylabel('Scenario')\n",
    "plt.tight_layout()\n",
    "plt.savefig('./figures/scri_tornado_chart.png')\n",
    "plt.show()"
   ]
  },
  {
   "cell_type": "code",
   "execution_count": 13,
   "id": "e7511630",
   "metadata": {},
   "outputs": [
    {
     "name": "stdout",
     "output_type": "stream",
     "text": [
      "Tornado chart saved to ./figures/scri_tornado_chart.png\n",
      "         Scenario    Change\n",
      "Frequency CV -15% -0.010119\n",
      "Frequency CV +15%  0.010119\n",
      "    Severity +20%  0.010262\n",
      "    Severity -20% -0.010262\n"
     ]
    }
   ],
   "source": [
    "print(\"Tornado chart saved to ./figures/scri_tornado_chart.png\")\n",
    "print(tornado_sorted[['Scenario', 'Change']].to_string(index=False))"
   ]
  }
 ],
 "metadata": {
  "kernelspec": {
   "display_name": "venv",
   "language": "python",
   "name": "python3"
  },
  "language_info": {
   "codemirror_mode": {
    "name": "ipython",
    "version": 3
   },
   "file_extension": ".py",
   "mimetype": "text/x-python",
   "name": "python",
   "nbconvert_exporter": "python",
   "pygments_lexer": "ipython3",
   "version": "3.12.10"
  }
 },
 "nbformat": 4,
 "nbformat_minor": 5
}
