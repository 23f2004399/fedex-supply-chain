{
 "cells": [
  {
   "cell_type": "code",
   "execution_count": 2,
   "id": "1ead0fc5",
   "metadata": {},
   "outputs": [],
   "source": [
    "import pandas as pd\n",
    "import numpy as np\n",
    "from sklearn.preprocessing import MinMaxScaler\n",
    "from sklearn.decomposition import PCA"
   ]
  },
  {
   "cell_type": "code",
   "execution_count": 3,
   "id": "9cb9e000",
   "metadata": {},
   "outputs": [],
   "source": [
    "df = pd.read_csv(\"DataCoSupplyChainDataset.csv\", encoding='ISO-8859-1')"
   ]
  },
  {
   "cell_type": "code",
   "execution_count": 4,
   "id": "e5ae77f5",
   "metadata": {},
   "outputs": [
    {
     "name": "stdout",
     "output_type": "stream",
     "text": [
      "Index(['Type', 'Days for shipping (real)', 'Days for shipment (scheduled)',\n",
      "       'Benefit per order', 'Sales per customer', 'Delivery Status',\n",
      "       'Late_delivery_risk', 'Category Id', 'Category Name', 'Customer City',\n",
      "       'Customer Country', 'Customer Email', 'Customer Fname', 'Customer Id',\n",
      "       'Customer Lname', 'Customer Password', 'Customer Segment',\n",
      "       'Customer State', 'Customer Street', 'Customer Zipcode',\n",
      "       'Department Id', 'Department Name', 'Latitude', 'Longitude', 'Market',\n",
      "       'Order City', 'Order Country', 'Order Customer Id',\n",
      "       'order date (DateOrders)', 'Order Id', 'Order Item Cardprod Id',\n",
      "       'Order Item Discount', 'Order Item Discount Rate', 'Order Item Id',\n",
      "       'Order Item Product Price', 'Order Item Profit Ratio',\n",
      "       'Order Item Quantity', 'Sales', 'Order Item Total',\n",
      "       'Order Profit Per Order', 'Order Region', 'Order State', 'Order Status',\n",
      "       'Order Zipcode', 'Product Card Id', 'Product Category Id',\n",
      "       'Product Description', 'Product Image', 'Product Name', 'Product Price',\n",
      "       'Product Status', 'shipping date (DateOrders)', 'Shipping Mode'],\n",
      "      dtype='object')\n"
     ]
    }
   ],
   "source": [
    "print(df.columns)"
   ]
  },
  {
   "cell_type": "code",
   "execution_count": 5,
   "id": "0f3119f5",
   "metadata": {},
   "outputs": [],
   "source": [
    "group_cols = {\n",
    "    'Frequency': ['Order Id'],  \n",
    "    'Severity': ['Sales per customer', 'Order Item Quantity', 'Order Item Product Price'],\n",
    "    'LeadTime': ['Days for shipping (real)', 'Days for shipment (scheduled)', 'Order Item Total']\n",
    "}"
   ]
  },
  {
   "cell_type": "code",
   "execution_count": 6,
   "id": "ac0de402",
   "metadata": {},
   "outputs": [],
   "source": [
    "df_grouped = df.groupby('Customer Id').agg({\n",
    "    'Order Id': 'count',\n",
    "    'Sales per customer': 'mean',\n",
    "    'Order Item Quantity': 'mean',\n",
    "    'Order Item Product Price': 'mean',\n",
    "    'Days for shipping (real)': 'mean',\n",
    "    'Days for shipment (scheduled)': 'mean',\n",
    "    'Order Item Total': 'mean'\n",
    "}).rename(columns={'Order Id': 'Order Count'})"
   ]
  },
  {
   "cell_type": "code",
   "execution_count": 7,
   "id": "4ec37e58",
   "metadata": {},
   "outputs": [],
   "source": [
    "scaler = MinMaxScaler()\n",
    "norm_features = ['Order Count', 'Sales per customer', 'Order Item Quantity', 'Order Item Product Price',\n",
    "                 'Days for shipping (real)', 'Days for shipment (scheduled)', 'Order Item Total']"
   ]
  },
  {
   "cell_type": "code",
   "execution_count": 8,
   "id": "4738a5a8",
   "metadata": {},
   "outputs": [],
   "source": [
    "df_norm = df_grouped.copy()\n",
    "df_norm[norm_features] = scaler.fit_transform(df_norm[norm_features])"
   ]
  },
  {
   "cell_type": "code",
   "execution_count": 9,
   "id": "1a60434a",
   "metadata": {},
   "outputs": [],
   "source": [
    "df_norm['F_norm'] = df_norm['Order Count']\n",
    "df_norm['S_norm'] = df_norm[['Sales per customer', 'Order Item Quantity', 'Order Item Product Price']].mean(axis=1)\n",
    "df_norm['L_norm'] = df_norm[['Days for shipping (real)', 'Days for shipment (scheduled)', 'Order Item Total']].mean(axis=1)"
   ]
  },
  {
   "cell_type": "code",
   "execution_count": 10,
   "id": "2c83a75a",
   "metadata": {},
   "outputs": [],
   "source": [
    "X = df_norm[['F_norm', 'S_norm', 'L_norm']]\n",
    "pca = PCA(n_components=3)\n",
    "pca.fit(X)\n",
    "pca_weights = pca.explained_variance_ratio_\n",
    "pca_weights /= pca_weights.sum()"
   ]
  },
  {
   "cell_type": "code",
   "execution_count": 11,
   "id": "e34c2e94",
   "metadata": {},
   "outputs": [],
   "source": [
    "equal_weights = np.array([1/3, 1/3, 1/3])"
   ]
  },
  {
   "cell_type": "code",
   "execution_count": 12,
   "id": "f1ac9b9d",
   "metadata": {},
   "outputs": [],
   "source": [
    "heuristic_weights = np.array([0.4, 0.35, 0.25])"
   ]
  },
  {
   "cell_type": "code",
   "execution_count": 13,
   "id": "88e5d2eb",
   "metadata": {},
   "outputs": [],
   "source": [
    "df_norm['SCRI_heuristic'] = X.dot(heuristic_weights)\n",
    "df_norm['SCRI_pca'] = X.dot(pca_weights)\n",
    "df_norm['SCRI_equal'] = X.dot(equal_weights)"
   ]
  },
  {
   "cell_type": "code",
   "execution_count": 14,
   "id": "26ecc0ef",
   "metadata": {},
   "outputs": [],
   "source": [
    "df_norm['Rank_heuristic'] = df_norm['SCRI_heuristic'].rank(ascending=True)\n",
    "df_norm['Rank_pca'] = df_norm['SCRI_pca'].rank(ascending=True)\n",
    "df_norm['Rank_equal'] = df_norm['SCRI_equal'].rank(ascending=True)"
   ]
  },
  {
   "cell_type": "code",
   "execution_count": 15,
   "id": "2f444a64",
   "metadata": {},
   "outputs": [],
   "source": [
    "output_cols = ['F_norm', 'S_norm', 'L_norm',\n",
    "               'SCRI_heuristic', 'SCRI_pca', 'SCRI_equal',\n",
    "               'Rank_heuristic', 'Rank_pca', 'Rank_equal']"
   ]
  },
  {
   "cell_type": "code",
   "execution_count": 16,
   "id": "c27c05d0",
   "metadata": {},
   "outputs": [],
   "source": [
    "df_norm[output_cols].to_csv('scri_results.csv')"
   ]
  },
  {
   "cell_type": "code",
   "execution_count": 17,
   "id": "d2a1c4e8",
   "metadata": {},
   "outputs": [
    {
     "name": "stdout",
     "output_type": "stream",
     "text": [
      "SCRI computation complete!\n",
      "Output saved to scri_results.csv\n",
      "\n",
      "Weights used:\n",
      "Heuristic Weights: F=0.4, S=0.35, L=0.25\n",
      "PCA-derived Weights: [0.527 0.352 0.121]\n",
      "Equal-risk Weights: [0.333 0.333 0.333]\n"
     ]
    }
   ],
   "source": [
    "print(\"SCRI computation complete!\")\n",
    "print(\"Output saved to scri_results.csv\")\n",
    "print(\"\\nWeights used:\")\n",
    "print(f\"Heuristic Weights: F=0.4, S=0.35, L=0.25\")\n",
    "print(\"PCA-derived Weights:\", np.round(pca_weights, 3))\n",
    "print(\"Equal-risk Weights:\", np.round(equal_weights, 3))"
   ]
  }
 ],
 "metadata": {
  "kernelspec": {
   "display_name": "venv",
   "language": "python",
   "name": "python3"
  },
  "language_info": {
   "codemirror_mode": {
    "name": "ipython",
    "version": 3
   },
   "file_extension": ".py",
   "mimetype": "text/x-python",
   "name": "python",
   "nbconvert_exporter": "python",
   "pygments_lexer": "ipython3",
   "version": "3.12.10"
  }
 },
 "nbformat": 4,
 "nbformat_minor": 5
}
